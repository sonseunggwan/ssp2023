{
 "cells": [
  {
   "cell_type": "markdown",
   "id": "2df169d8-4c37-4450-97b5-6cc781a2ae4a",
   "metadata": {},
   "source": [
    "# DEEE725 Speech Signal Processing Lab\n",
    "### 2023 Spring, Kyungpook National University \n",
    "### Instructor: Gil-Jin Jang"
   ]
  },
  {
   "cell_type": "markdown",
   "id": "09645527-0887-405f-9a9a-05da9cb45270",
   "metadata": {},
   "source": [
    "## Lab 01 Korean digit recognition using python-hmmlearn\n",
    "version 2, 2023/03/24\n",
    "source: [jayaram1125's github repository](https://github.com/jayaram1125/Single-Word-Speech-Recognition-using-GMM-HMM-)\n",
    "\n",
    "__update description:__\n",
    "\n",
    "1. assigns sound files 8 and 9 for test out of 0...9, the rest (0...7) are for training\n",
    "    no random selection for reproducibility\n",
    "2. folder structure change\n",
    "\n",
    "> segmented/${username}/${dnum}/kdigits${trial}-${dnum}.wav\n",
    "> > for example, for user \"gjang\", digit 2, recording trial 0 (1st)\n",
    "> > \"segmented/gjang/2/kdigits0-2.wav\""
   ]
  },
  {
   "cell_type": "code",
   "execution_count": 10,
   "id": "255f17d3",
   "metadata": {},
   "outputs": [
    {
     "name": "stdout",
     "output_type": "stream",
     "text": [
      "Requirement already satisfied: librosa in c:\\users\\it2-000\\anaconda3\\lib\\site-packages (0.10.0.post2)\n",
      "Requirement already satisfied: joblib>=0.14 in c:\\users\\it2-000\\anaconda3\\lib\\site-packages (from librosa) (1.1.1)\n",
      "Requirement already satisfied: msgpack>=1.0 in c:\\users\\it2-000\\anaconda3\\lib\\site-packages (from librosa) (1.0.3)\n",
      "Requirement already satisfied: soundfile>=0.12.1 in c:\\users\\it2-000\\anaconda3\\lib\\site-packages (from librosa) (0.12.1)\n",
      "Requirement already satisfied: pooch<1.7,>=1.0 in c:\\users\\it2-000\\anaconda3\\lib\\site-packages (from librosa) (1.4.0)\n",
      "Requirement already satisfied: decorator>=4.3.0 in c:\\users\\it2-000\\anaconda3\\lib\\site-packages (from librosa) (5.1.1)\n",
      "Requirement already satisfied: typing-extensions>=4.1.1 in c:\\users\\it2-000\\anaconda3\\lib\\site-packages (from librosa) (4.4.0)\n",
      "Requirement already satisfied: numpy!=1.22.0,!=1.22.1,!=1.22.2,>=1.20.3 in c:\\users\\it2-000\\anaconda3\\lib\\site-packages (from librosa) (1.23.5)\n",
      "Requirement already satisfied: numba>=0.51.0 in c:\\users\\it2-000\\anaconda3\\lib\\site-packages (from librosa) (0.56.4)\n",
      "Requirement already satisfied: scikit-learn>=0.20.0 in c:\\users\\it2-000\\anaconda3\\lib\\site-packages (from librosa) (1.2.1)\n",
      "Requirement already satisfied: lazy-loader>=0.1 in c:\\users\\it2-000\\anaconda3\\lib\\site-packages (from librosa) (0.2)\n",
      "Requirement already satisfied: audioread>=2.1.9 in c:\\users\\it2-000\\anaconda3\\lib\\site-packages (from librosa) (3.0.0)\n",
      "Requirement already satisfied: soxr>=0.3.2 in c:\\users\\it2-000\\anaconda3\\lib\\site-packages (from librosa) (0.3.4)\n",
      "Requirement already satisfied: scipy>=1.2.0 in c:\\users\\it2-000\\anaconda3\\lib\\site-packages (from librosa) (1.10.0)\n",
      "Requirement already satisfied: setuptools in c:\\users\\it2-000\\anaconda3\\lib\\site-packages (from numba>=0.51.0->librosa) (65.6.3)\n",
      "Requirement already satisfied: llvmlite<0.40,>=0.39.0dev0 in c:\\users\\it2-000\\anaconda3\\lib\\site-packages (from numba>=0.51.0->librosa) (0.39.1)\n",
      "Requirement already satisfied: appdirs in c:\\users\\it2-000\\anaconda3\\lib\\site-packages (from pooch<1.7,>=1.0->librosa) (1.4.4)\n",
      "Requirement already satisfied: requests in c:\\users\\it2-000\\anaconda3\\lib\\site-packages (from pooch<1.7,>=1.0->librosa) (2.28.1)\n",
      "Requirement already satisfied: packaging in c:\\users\\it2-000\\anaconda3\\lib\\site-packages (from pooch<1.7,>=1.0->librosa) (22.0)\n",
      "Requirement already satisfied: threadpoolctl>=2.0.0 in c:\\users\\it2-000\\anaconda3\\lib\\site-packages (from scikit-learn>=0.20.0->librosa) (2.2.0)\n",
      "Requirement already satisfied: cffi>=1.0 in c:\\users\\it2-000\\anaconda3\\lib\\site-packages (from soundfile>=0.12.1->librosa) (1.15.1)\n",
      "Requirement already satisfied: pycparser in c:\\users\\it2-000\\anaconda3\\lib\\site-packages (from cffi>=1.0->soundfile>=0.12.1->librosa) (2.21)\n",
      "Requirement already satisfied: urllib3<1.27,>=1.21.1 in c:\\users\\it2-000\\anaconda3\\lib\\site-packages (from requests->pooch<1.7,>=1.0->librosa) (1.26.14)\n",
      "Requirement already satisfied: certifi>=2017.4.17 in c:\\users\\it2-000\\anaconda3\\lib\\site-packages (from requests->pooch<1.7,>=1.0->librosa) (2022.12.7)\n",
      "Requirement already satisfied: idna<4,>=2.5 in c:\\users\\it2-000\\anaconda3\\lib\\site-packages (from requests->pooch<1.7,>=1.0->librosa) (3.4)\n",
      "Requirement already satisfied: charset-normalizer<3,>=2 in c:\\users\\it2-000\\anaconda3\\lib\\site-packages (from requests->pooch<1.7,>=1.0->librosa) (2.0.4)\n",
      "Requirement already satisfied: hmmlearn in c:\\users\\it2-000\\anaconda3\\lib\\site-packages (0.2.8)\n",
      "Requirement already satisfied: scipy>=0.19 in c:\\users\\it2-000\\anaconda3\\lib\\site-packages (from hmmlearn) (1.10.0)\n",
      "Requirement already satisfied: numpy>=1.10 in c:\\users\\it2-000\\anaconda3\\lib\\site-packages (from hmmlearn) (1.23.5)\n",
      "Requirement already satisfied: scikit-learn>=0.16 in c:\\users\\it2-000\\anaconda3\\lib\\site-packages (from hmmlearn) (1.2.1)\n",
      "Requirement already satisfied: joblib>=1.1.1 in c:\\users\\it2-000\\anaconda3\\lib\\site-packages (from scikit-learn>=0.16->hmmlearn) (1.1.1)\n",
      "Requirement already satisfied: threadpoolctl>=2.0.0 in c:\\users\\it2-000\\anaconda3\\lib\\site-packages (from scikit-learn>=0.16->hmmlearn) (2.2.0)\n"
     ]
    }
   ],
   "source": [
    "!pip install librosa\n",
    "!pip install hmmlearn"
   ]
  },
  {
   "cell_type": "code",
   "execution_count": 11,
   "id": "d2fbc717-5dc6-43a9-b7c3-9f8f2b06506f",
   "metadata": {
    "tags": []
   },
   "outputs": [],
   "source": [
    "# import necessary packages\n",
    "import numpy as np\n",
    "import matplotlib.pyplot as plt\n",
    "#from scikits.talkbox.features import mfcc\n",
    "#librosa.feature.mfcc(*, y=None, sr=22050, S=None, n_mfcc=20, dct_type=2, norm='ortho', lifter=0, **kwargs)[source]\n",
    "from librosa.feature import mfcc\n",
    "from scipy.io import wavfile\n",
    "from hmmlearn import hmm\n",
    "import numpy as np\n",
    "import os\n",
    "import warnings\n",
    "import scipy.stats as sp\n",
    "from time import time\n",
    "\n",
    "warnings.filterwarnings(\"ignore\")"
   ]
  },
  {
   "cell_type": "markdown",
   "id": "371acf2d-ddbd-411e-8134-1a44abcb4593",
   "metadata": {},
   "source": [
    "__hyperparameters__ - CHANGE THEM TO IMPROVE PERFORMANCE\n",
    "1. number of MFCC (feature dimension), try `num_mfcc` 6, 10, 13\n",
    "\n",
    "2. Parameters needed to train GMMHMM: number of HMM states, number of Gaussian mixtures, diagonal or full covariance matrix, etc."
   ]
  },
  {
   "cell_type": "code",
   "execution_count": 12,
   "id": "5764004d-1445-4762-9e67-a1cb8744faa6",
   "metadata": {
    "tags": []
   },
   "outputs": [],
   "source": [
    "# 1. number of MFCC (feature dimension)\n",
    "num_mfcc = 6\n",
    "#num_mfcc = 10\n",
    "#num_mfcc = 13\n",
    "# 2. Parameters needed to train GMMHMM\n",
    "m_num_of_HMMStates = 3  # number of states\n",
    "m_num_of_mixtures = 2  # number of mixtures for each hidden state\n",
    "m_covarianceType = 'diag'  # covariance type\n",
    "m_n_iter = 10  # number of iterations\n",
    "m_bakisLevel = 2"
   ]
  },
  {
   "cell_type": "code",
   "execution_count": 13,
   "id": "e0a7b0e8-fd5c-4e48-8a1b-ef1b71ae8115",
   "metadata": {
    "tags": []
   },
   "outputs": [],
   "source": [
    "# extract MFCC features\n",
    "def extmfcc(file):\n",
    "    samplerate, d = wavfile.read(file)\n",
    "    #features.append(mfcc(d, nwin=int(samplerate * 0.03), fs=samplerate, nceps= 6)[0])\n",
    "    x = np.float32(d)\n",
    "    hop=samplerate//100\n",
    "    mc = mfcc(y=x, sr=samplerate, n_mfcc=num_mfcc, hop_length=hop, win_length=hop*2)\n",
    "    return np.transpose(mc, (1,0))"
   ]
  },
  {
   "cell_type": "markdown",
   "id": "f11bc3d0-d556-40d1-b2af-46076a7431b7",
   "metadata": {
    "tags": []
   },
   "source": [
    "__load data files__\n",
    "\n",
    "1. find files: \n",
    "    for user `\"gjang\"`, digit 2, recording trial 0 (1st)\n",
    "    `\"segmented/gjang/2/kdigits0-2.wav\"`\n",
    "2. extract MFCC features for training and testing\n",
    "    for each digit, indexes 4 and 9 for test, and the rest for training"
   ]
  },
  {
   "cell_type": "code",
   "execution_count": 21,
   "id": "5369c97e-f05f-4853-9cf4-5a6a7235773f",
   "metadata": {
    "tags": []
   },
   "outputs": [
    {
     "name": "stdout",
     "output_type": "stream",
     "text": [
      "segmented/son/0/kdigits0-0.wav 0 (266, 6) training\n",
      "segmented/son/0/kdigits1-0.wav 0 (222, 6) training\n",
      "segmented/son/0/kdigits2-0.wav 0 (291, 6) training\n",
      "segmented/son/0/kdigits3-0.wav 0 (216, 6) training\n",
      "segmented/son/0/kdigits4-0.wav 0 (228, 6) testing\n",
      "segmented/son/0/kdigits5-0.wav 0 (270, 6) training\n",
      "segmented/son/0/kdigits6-0.wav 0 (291, 6) training\n",
      "segmented/son/0/kdigits7-0.wav 0 (403, 6) training\n",
      "segmented/son/0/kdigits8-0.wav 0 (320, 6) training\n",
      "segmented/son/0/kdigits9-0.wav 0 (318, 6) testing\n",
      "segmented/son/1/kdigits0-1.wav 1 (231, 6) training\n",
      "segmented/son/1/kdigits1-1.wav 1 (129, 6) training\n",
      "segmented/son/1/kdigits2-1.wav 1 (212, 6) training\n",
      "segmented/son/1/kdigits3-1.wav 1 (262, 6) training\n",
      "segmented/son/1/kdigits4-1.wav 1 (189, 6) testing\n",
      "segmented/son/1/kdigits5-1.wav 1 (235, 6) training\n",
      "segmented/son/1/kdigits6-1.wav 1 (231, 6) training\n",
      "segmented/son/1/kdigits7-1.wav 1 (281, 6) training\n",
      "segmented/son/1/kdigits8-1.wav 1 (338, 6) training\n",
      "segmented/son/1/kdigits9-1.wav 1 (300, 6) testing\n",
      "...\n",
      "\n",
      "Words spoken: ['0', '1', '2', '3', '4', '5', '6', '7', '8', '9']\n"
     ]
    }
   ],
   "source": [
    "#fpaths = []\n",
    "#labels = []\n",
    "spoken = []\n",
    "m_trainingsetfeatures = []\n",
    "m_trainingsetlabels = []\n",
    "m_testingsetfeatures = []\n",
    "m_testingsetlabels = []\n",
    "n_folds = 5   # 0...3 for training, 4 for testing\n",
    "\n",
    "apath = 'segmented'\n",
    "count = 0\n",
    "for username in os.listdir(apath):\n",
    "    apath2 = apath + '/' + username    # example: segmented/gjang\n",
    "    for ii in range(10):   #dnum in os.listdir(apath2):\n",
    "        dnum = str(ii)\n",
    "        apath3 = apath2 + '/' + dnum     # example: segmented/gjang/2\n",
    "        if dnum not in spoken:\n",
    "            spoken.append(dnum)\n",
    "        for trial in range(10):\n",
    "            file = apath3 + '/' + \"kdigits{}-{}.wav\".format(trial,dnum)      # segmented/gjang/2/kdigits0-2.wav\n",
    "            mc = extmfcc(file)\n",
    "\n",
    "            # display file names for the first 20 files only\n",
    "            count += 1\n",
    "            if count <= 20:\n",
    "                print(file, dnum, end=' '); print(mc.shape, end=' ')\n",
    "            elif count == 21:\n",
    "                print('...'); print('')\n",
    "\n",
    "            # 0...3 for training, 4 for testing\n",
    "            if trial % n_folds == (n_folds-1):\n",
    "                if count <= 20: print('testing')\n",
    "                m_testingsetfeatures.append(mc)\n",
    "                m_testingsetlabels.append(dnum)\n",
    "            else:\n",
    "                if count <= 20: print('training')\n",
    "                m_trainingsetfeatures.append(mc)\n",
    "                m_trainingsetlabels.append(dnum)\n",
    "\n",
    "\n",
    "print('Words spoken:', spoken)\n",
    "#print(\"number of labels and features = %d, %d\" % ( len(labels), len(features) ))\n",
    "#print(\"feature shape = \", end='')\n",
    "#print(features[0].shape)"
   ]
  },
  {
   "cell_type": "code",
   "execution_count": 22,
   "id": "60e1ff46-b49e-406f-bf74-907e128edd4d",
   "metadata": {
    "tags": []
   },
   "outputs": [],
   "source": [
    "# gjang: shuffling the data (x)\n",
    "# c = list(zip(features, labels))\n",
    "# np.random.shuffle(c)\n",
    "# features,labels = zip(*c)"
   ]
  },
  {
   "cell_type": "code",
   "execution_count": 23,
   "id": "a2ace1d5-9d79-4e98-8107-afabfc1660d0",
   "metadata": {
    "tags": []
   },
   "outputs": [
    {
     "name": "stdout",
     "output_type": "stream",
     "text": [
      "[training] number of labels and features = 80, 80\n",
      "[test] number of labels and features = 20, 20\n",
      "Loading data completed\n"
     ]
    }
   ],
   "source": [
    "# test and training for 100 files\n",
    "ntest  = len(m_testingsetlabels)\n",
    "ntrain = len(m_trainingsetlabels)\n",
    "nfiles = ntest + ntrain\n",
    "\n",
    "print(\"[training] number of labels and features = %d, %d\" % \n",
    "        ( len(m_trainingsetlabels), len(m_trainingsetfeatures)) )\n",
    "print(\"[test] number of labels and features = %d, %d\" % \n",
    "        ( len(m_testingsetlabels), len(m_testingsetfeatures)) )\n",
    "\n",
    "print ('Loading data completed')"
   ]
  },
  {
   "cell_type": "code",
   "execution_count": 24,
   "id": "f8e0b11b-70b4-453a-a631-23f4df66e346",
   "metadata": {
    "tags": []
   },
   "outputs": [
    {
     "name": "stdout",
     "output_type": "stream",
     "text": [
      "StartProbPrior=\n",
      "[1. 0. 0.]\n",
      "TransMatPrior=\n",
      "[[0.5 0.5 0. ]\n",
      " [0.  0.5 0.5]\n",
      " [0.  0.  1. ]]\n"
     ]
    }
   ],
   "source": [
    "# model initialization\n",
    "gmmhmmindexdict = {}\n",
    "index = 0\n",
    "for word in spoken:\n",
    "    gmmhmmindexdict[word] = index\n",
    "    index = index +1\n",
    "\n",
    "def initByBakis(inumstates, ibakisLevel):\n",
    "    startprobPrior = np.zeros(inumstates)\n",
    "    startprobPrior[0: ibakisLevel - 1] = 1/float((ibakisLevel - 1))\n",
    "    transmatPrior = getTransmatPrior(inumstates, ibakisLevel)\n",
    "    return startprobPrior, transmatPrior\n",
    "\n",
    "def getTransmatPrior(inumstates, ibakisLevel):\n",
    "    transmatPrior = (1 / float(ibakisLevel)) * np.eye(inumstates)\n",
    "\n",
    "    for i in range(inumstates - (ibakisLevel - 1)):\n",
    "        for j in range(ibakisLevel - 1):\n",
    "            transmatPrior[i, i + j + 1] = 1. / ibakisLevel\n",
    "\n",
    "    for i in range(inumstates - ibakisLevel + 1, inumstates):\n",
    "        for j in range(inumstates - i - j):\n",
    "            transmatPrior[i, i + j] = 1. / (inumstates - i)\n",
    "\n",
    "    return transmatPrior\n",
    "\n",
    "m_startprobPrior ,m_transmatPrior = initByBakis(m_num_of_HMMStates,m_bakisLevel)\n",
    "\n",
    "print(\"StartProbPrior=\")\n",
    "print(m_startprobPrior)\n",
    "\n",
    "print(\"TransMatPrior=\")\n",
    "print(m_transmatPrior)"
   ]
  },
  {
   "cell_type": "code",
   "execution_count": 25,
   "id": "bfe7d4a7-9011-46f7-8798-8c6010b99e13",
   "metadata": {
    "tags": []
   },
   "outputs": [],
   "source": [
    "# acoustic model definition\n",
    "class SpeechModel:\n",
    "    def __init__(self,Class,label):\n",
    "        self.traindata = np.zeros((0,num_mfcc))\n",
    "        self.Class = Class\n",
    "        self.label = label\n",
    "        self.model  = hmm.GMMHMM(n_components = m_num_of_HMMStates, n_mix = m_num_of_mixtures, \\\n",
    "                transmat_prior = m_transmatPrior, startprob_prior = m_startprobPrior, \\\n",
    "                covariance_type = m_covarianceType, n_iter = m_n_iter)"
   ]
  },
  {
   "cell_type": "code",
   "execution_count": 26,
   "id": "851705fb-4910-4f3d-a8a2-e3b2ab26d1f6",
   "metadata": {
    "tags": []
   },
   "outputs": [
    {
     "name": "stdout",
     "output_type": "stream",
     "text": [
      "Training completed -- 10 GMM-HMM models are built for 10 different types of words\n",
      "time elapsed: 10.52 seconds\n",
      " \n",
      " \n"
     ]
    }
   ],
   "source": [
    "# training GMMHMM Models \n",
    "start = time()\n",
    "\n",
    "speechmodels = [None] * len(spoken)\n",
    "for key in gmmhmmindexdict:\n",
    "    speechmodels[gmmhmmindexdict[key]] = SpeechModel(gmmhmmindexdict[key],key)\n",
    "\n",
    "for i in range(0,len(m_trainingsetfeatures)):\n",
    "     for j in range(0,len(speechmodels)):\n",
    "         if int(speechmodels[j].Class) == int(gmmhmmindexdict[m_trainingsetlabels[i]]):\n",
    "            speechmodels[j].traindata = np.concatenate((speechmodels[j].traindata , m_trainingsetfeatures[i]))\n",
    "\n",
    "for speechmodel in speechmodels:\n",
    "    speechmodel.model.fit(speechmodel.traindata)\n",
    "\n",
    "print ('Training completed -- {0} GMM-HMM models are built for {0} different types of words'.format(len(spoken)))\n",
    "print('time elapsed: %.2f seconds' % ( time() - start ))\n",
    "print (\" \"); print(\" \")"
   ]
  },
  {
   "cell_type": "code",
   "execution_count": 27,
   "id": "75739c76-9c05-4210-8e96-282dadd036e7",
   "metadata": {
    "scrolled": true,
    "tags": []
   },
   "outputs": [
    {
     "name": "stdout",
     "output_type": "stream",
     "text": [
      "Prediction started\n",
      "[-4973.714 -5302.363 -5324.795 -5209.118 -5359.212 -5151.02  -5106.276\n",
      " -5372.464 -5054.886 -5270.9  ] -4973.714 :0\n",
      "[-6872.066 -7300.755 -7520.378 -7183.616 -7351.681 -7072.668 -7011.534\n",
      " -7373.665 -6905.206 -7172.069] -6872.066 :0\n",
      "[-4531.803 -4200.869 -4823.213 -4672.603 -4927.876 -4302.28  -4472.286\n",
      " -4883.769 -4379.909 -4515.12 ] -4200.869 :1\n",
      "[-6906.488 -6571.278 -7128.556 -7074.978 -7324.358 -6653.611 -6804.246\n",
      " -7258.513 -6685.568 -6866.83 ] -6571.278 :1\n",
      "[-4045.102 -4167.887 -3932.333 -4027.368 -4084.346 -4119.246 -4130.913\n",
      " -4118.707 -3991.311 -4269.971] -3932.333 :2\n",
      "[-5361.679 -5461.908 -5211.384 -5323.611 -5439.511 -5348.846 -5336.244\n",
      " -5465.376 -5269.655 -5480.95 ] -5211.384 :2\n",
      "[-4050.525 -4326.348 -4158.449 -3960.337 -4080.168 -4176.557 -4147.99\n",
      " -4221.26  -4091.679 -4236.916] -3960.337 :3\n",
      "[-5685.505 -5927.019 -5702.001 -5689.996 -5767.725 -5829.152 -5811.546\n",
      " -5873.625 -5704.337 -5925.258] -5685.505 :0\n",
      "[-3568.606 -3919.732 -3787.222 -3555.003 -3480.42  -3714.127 -3660.523\n",
      " -3645.216 -3557.801 -3773.885] -3480.42 :4\n",
      "[-5002.883 -5502.239 -5295.985 -5081.104 -4949.183 -5231.748 -5166.811\n",
      " -5077.705 -5036.305 -5352.669] -4949.183 :4\n",
      "[-4134.492 -4093.005 -4630.129 -4401.937 -4839.727 -3871.03  -3963.836\n",
      " -4621.204 -4034.869 -4117.724] -3871.03 :5\n",
      "[-5608.731 -5534.859 -6153.387 -5898.305 -6330.75  -5345.97  -5443.653\n",
      " -6096.407 -5475.189 -5601.05 ] -5345.97 :5\n",
      "[-3904.234 -4044.598 -4397.982 -4210.699 -4651.819 -3780.764 -3777.39\n",
      " -4468.318 -3832.66  -4001.118] -3777.39 :6\n",
      "[-5631.974 -5735.784 -6110.43  -5889.36  -6260.018 -5492.483 -5500.781\n",
      " -6107.082 -5502.305 -5692.962] -5492.483 :5\n",
      "[-4423.957 -4841.557 -4397.631 -4416.98  -4538.549 -4353.98  -4123.958\n",
      " -3756.967 -4303.144 -3998.431] -3756.967 :7\n",
      "[-6782.088 -7034.645 -6789.397 -6745.512 -6903.282 -6641.381 -6471.254\n",
      " -6107.591 -6615.348 -6402.16 ] -6107.591 :7\n",
      "[-3873.828 -4244.333 -4131.224 -4080.43  -4335.534 -4007.887 -3988.292\n",
      " -4393.832 -3881.493 -4146.727] -3873.828 :0\n",
      "[-5954.292 -6183.487 -6221.776 -6095.597 -6350.867 -5962.546 -5964.146\n",
      " -6407.339 -5868.056 -6135.124] -5868.056 :8\n",
      "[-4445.89  -4362.966 -4712.573 -4581.276 -5085.361 -4197.321 -3976.573\n",
      " -4051.242 -4150.702 -3695.305] -3695.305 :9\n",
      "[-7393.957 -7325.386 -7625.39  -7541.315 -7950.916 -7084.091 -6855.065\n",
      " -6787.169 -7002.088 -6479.703] -6479.703 :9\n",
      "\n",
      "Prediction for Testing DataSet:\n",
      "Label1:0\n",
      "Label2:0\n",
      "Label3:1\n",
      "Label4:1\n",
      "Label5:2\n",
      "Label6:2\n",
      "Label7:3\n",
      "Label8:3\n",
      "Label9:4\n",
      "Label10:4\n",
      "Label11:5\n",
      "Label12:5\n",
      "Label13:6\n",
      "Label14:6\n",
      "Label15:7\n",
      "Label16:7\n",
      "Label17:8\n",
      "Label18:8\n",
      "Label19:9\n",
      "Label20:9\n",
      "\n",
      "accuracy =85.0\n",
      "\n"
     ]
    }
   ],
   "source": [
    "# testing\n",
    "print(\"Prediction started\")\n",
    "m_PredictionlabelList = []\n",
    "\n",
    "for i in range(0,len(m_testingsetfeatures)):\n",
    "    scores = []\n",
    "    for speechmodel in speechmodels:\n",
    "         scores.append(speechmodel.model.score(m_testingsetfeatures[i]))\n",
    "    id  = scores.index(max(scores))\n",
    "    m_PredictionlabelList.append(speechmodels[id].Class)\n",
    "    print(str(np.round(scores, 3)) + \" \" + str(max(np.round(scores, 3))) +\" \"+\":\"+ speechmodels[id].label)\n",
    "\n",
    "accuracy = 0.0\n",
    "count = 0\n",
    "print(\"\")\n",
    "print(\"Prediction for Testing DataSet:\")\n",
    "\n",
    "for i in range(0,len(m_testingsetlabels)):\n",
    "    print( \"Label\"+str(i+1)+\":\"+m_testingsetlabels[i])\n",
    "    if gmmhmmindexdict[m_testingsetlabels[i]] == m_PredictionlabelList[i]:\n",
    "       count = count+1\n",
    "\n",
    "accuracy = 100.0*count/float(len(m_testingsetlabels))\n",
    "\n",
    "print(\"\")\n",
    "print(\"accuracy =\"+str(accuracy))\n",
    "print(\"\")\n",
    "\n",
    "# end of testing"
   ]
  },
  {
   "cell_type": "markdown",
   "id": "2f2cc10f-ae74-4d39-bcdb-5863f58cb805",
   "metadata": {},
   "source": [
    "## End of Lab 01"
   ]
  }
 ],
 "metadata": {
  "kernelspec": {
   "display_name": "Python 3 (ipykernel)",
   "language": "python",
   "name": "python3"
  },
  "language_info": {
   "codemirror_mode": {
    "name": "ipython",
    "version": 3
   },
   "file_extension": ".py",
   "mimetype": "text/x-python",
   "name": "python",
   "nbconvert_exporter": "python",
   "pygments_lexer": "ipython3",
   "version": "3.10.9"
  }
 },
 "nbformat": 4,
 "nbformat_minor": 5
}
